{
 "cells": [
  {
   "cell_type": "code",
   "execution_count": null,
   "id": "2b6e599f-4c26-440c-9cce-18f7ea6c2f23",
   "metadata": {},
   "outputs": [],
   "source": [
    "# For assignment questions"
   ]
  },
  {
   "cell_type": "code",
   "execution_count": 1,
   "id": "e2b04742-8811-43db-98ee-24d37ac78842",
   "metadata": {},
   "outputs": [
    {
     "name": "stdout",
     "output_type": "stream",
     "text": [
      "1 2 3 4 5 6 7 8 9 10 "
     ]
    }
   ],
   "source": [
    "# QUESTION 1\n",
    "list = [1,2,3,4,5,6,7,8,9,10]\n",
    "for i in list:\n",
    "    print(i, end = \" \")"
   ]
  },
  {
   "cell_type": "code",
   "execution_count": 2,
   "id": "62c379d1-8248-4607-96e8-53e781c8acee",
   "metadata": {},
   "outputs": [
    {
     "name": "stdout",
     "output_type": "stream",
     "text": [
      "Sum of all number is list -  55\n"
     ]
    }
   ],
   "source": [
    "# QUESTION 2\n",
    "sum = 0\n",
    "list = [1,2,3,4,5,6,7,8,9,10]\n",
    "for i in list:\n",
    "    sum = sum + i\n",
    "print(\"Sum of all number is list - \",sum)"
   ]
  },
  {
   "cell_type": "code",
   "execution_count": 3,
   "id": "9f03af05-e507-4d48-ac03-99b9e6feedc1",
   "metadata": {},
   "outputs": [
    {
     "name": "stdout",
     "output_type": "stream",
     "text": [
      "Reverse String -  setyBperP\n"
     ]
    }
   ],
   "source": [
    "#Question 3\n",
    "def reverse(s):\n",
    "    str2 = \"\"\n",
    "    for i in s:\n",
    "        str2 = i + str2\n",
    "    return(str2)\n",
    "a = reverse('PrepBytes')\n",
    "print(\"Reverse String - \", a)"
   ]
  },
  {
   "cell_type": "code",
   "execution_count": 4,
   "id": "90e228a5-b540-4683-a0fb-c39ca9b0d46b",
   "metadata": {},
   "outputs": [
    {
     "name": "stdin",
     "output_type": "stream",
     "text": [
      "Enter the number 5\n"
     ]
    },
    {
     "name": "stdout",
     "output_type": "stream",
     "text": [
      "factorial of given number is -  120\n"
     ]
    }
   ],
   "source": [
    "#Question 4\n",
    "factorial = 1\n",
    "a = int(input('Enter the number'))\n",
    "if a < 0:\n",
    "    print(\"No factorial for negative numbers\")\n",
    "elif a == 1:\n",
    "    print(\"factorial 1 is -  '0'\")\n",
    "else:\n",
    "    for i in range(1, a+1):\n",
    "        factorial = factorial * i\n",
    "print(\"factorial of given number is - \", factorial)"
   ]
  },
  {
   "cell_type": "code",
   "execution_count": 5,
   "id": "05354364-c7ed-4c2c-9515-4f588053bd72",
   "metadata": {},
   "outputs": [
    {
     "name": "stdin",
     "output_type": "stream",
     "text": [
      "Enter the number 5\n"
     ]
    },
    {
     "name": "stdout",
     "output_type": "stream",
     "text": [
      "5 X 1 = 5\n",
      "5 X 2 = 10\n",
      "5 X 3 = 15\n",
      "5 X 4 = 20\n",
      "5 X 5 = 25\n",
      "5 X 6 = 30\n",
      "5 X 7 = 35\n",
      "5 X 8 = 40\n",
      "5 X 9 = 45\n",
      "5 X 10 = 50\n"
     ]
    }
   ],
   "source": [
    "#Question 5\n",
    "num = int(input('Enter the number'))\n",
    "for i in range(1 , 11):\n",
    "    print(num, 'X', i ,'=', num*i)"
   ]
  },
  {
   "cell_type": "code",
   "execution_count": 6,
   "id": "819ea26f-f627-40d4-9e39-b692cc9d3e79",
   "metadata": {},
   "outputs": [
    {
     "name": "stdout",
     "output_type": "stream",
     "text": [
      "Number of even numbers -  7\n",
      "Number of add numbers -  8\n"
     ]
    }
   ],
   "source": [
    "# Question 6\n",
    "even = 0\n",
    "odd = 0\n",
    "\n",
    "list = [1,2,3,4,5,6,7,8,9,10,37,99,0,100,101]\n",
    "for i in list:\n",
    "    if i%2 == 0:\n",
    "        even = even + 1\n",
    "    else:\n",
    "        odd = odd + 1\n",
    "print(\"Number of even numbers - \", even)\n",
    "print(\"Number of add numbers - \",odd)"
   ]
  },
  {
   "cell_type": "code",
   "execution_count": 7,
   "id": "2cba3aa6-f7b6-4323-bd09-7d0b30e1a693",
   "metadata": {},
   "outputs": [
    {
     "name": "stdout",
     "output_type": "stream",
     "text": [
      "1 X 1 = 1\n",
      "2 X 2 = 4\n",
      "3 X 3 = 9\n",
      "4 X 4 = 16\n",
      "5 X 5 = 25\n"
     ]
    }
   ],
   "source": [
    "#Question 7\n",
    "for i in range(1, 6):\n",
    "    print(i, 'X', i ,'=', i*i)"
   ]
  },
  {
   "cell_type": "code",
   "execution_count": 8,
   "id": "75bfd678-db9b-4657-8ce3-88e9ae6af7cc",
   "metadata": {},
   "outputs": [
    {
     "name": "stdout",
     "output_type": "stream",
     "text": [
      "Lenghth of string -  16\n"
     ]
    }
   ],
   "source": [
    "#Question 8\n",
    "a = 0\n",
    "s1 = \"Language r 12345\"\n",
    "for i in s1:\n",
    "    a = a + len(i)\n",
    "print(\"Lenghth of string - \", a)"
   ]
  },
  {
   "cell_type": "code",
   "execution_count": 9,
   "id": "db7d4b86-54cf-48a8-b62d-fe56c4c56bf8",
   "metadata": {},
   "outputs": [
    {
     "name": "stdout",
     "output_type": "stream",
     "text": [
      "Sum of all the integrers in list - 78\n",
      "Lenght of list -  12\n",
      "Average  6.5\n"
     ]
    }
   ],
   "source": [
    "# Question 9\n",
    "sum = 0\n",
    "list = [1,2,3,4,5,6,7,8,9,10,11,12]\n",
    "for i in list:\n",
    "    sum = sum + i\n",
    "print(\"Sum of all the integrers in list -\", sum)\n",
    "print(\"Lenght of list - \", len(list))\n",
    "print(\"Average \", sum/len(list))"
   ]
  },
  {
   "cell_type": "code",
   "execution_count": 10,
   "id": "79768580-b1a7-47bf-a6ae-3f3872d6794e",
   "metadata": {},
   "outputs": [
    {
     "name": "stdin",
     "output_type": "stream",
     "text": [
      "Enter the first 'n' fibonacci number 6\n"
     ]
    },
    {
     "name": "stdout",
     "output_type": "stream",
     "text": [
      "0 1 1 2 3 5 "
     ]
    }
   ],
   "source": [
    "# Question 10\n",
    "a = 0\n",
    "b = 1\n",
    "num = int(input(\"Enter the first 'n' fibonacci number\"))\n",
    "if num == 0:\n",
    "    print(\" Your value is -\", num)\n",
    "else:\n",
    "    print(a,b, end = \" \")\n",
    "    for i in range(2,num):\n",
    "          c = a + b\n",
    "          print(c, end = \" \")\n",
    "          a=b\n",
    "          b=c"
   ]
  },
  {
   "cell_type": "code",
   "execution_count": 11,
   "id": "fecbe3f2-6d48-401c-82b0-828beeea0025",
   "metadata": {},
   "outputs": [
    {
     "name": "stdout",
     "output_type": "stream",
     "text": [
      "Duplicate elements in given list are -  [6, 7]\n"
     ]
    }
   ],
   "source": [
    "# Intermediate Loop\n",
    "# Question 11\n",
    "uniquelist = []\n",
    "duplicatelist = []\n",
    "list = [1,2,3,4,5,6,6,7,7,8]\n",
    "for i in list:\n",
    "    if i not in uniquelist:\n",
    "        uniquelist.append(i)\n",
    "    elif i not in duplicatelist:\n",
    "        duplicatelist.append(i)\n",
    "\n",
    "print(\"Duplicate elements in given list are - \",duplicatelist)"
   ]
  },
  {
   "cell_type": "code",
   "execution_count": 12,
   "id": "6b5f8501-95d0-4a46-80d3-4ea72eb441a6",
   "metadata": {},
   "outputs": [
    {
     "name": "stdin",
     "output_type": "stream",
     "text": [
      "Enter upper limit:  9\n"
     ]
    },
    {
     "name": "stdout",
     "output_type": "stream",
     "text": [
      "Prime numbers are 2\n",
      "Prime numbers are 3\n",
      "Prime numbers are 5\n",
      "Prime numbers are 7\n"
     ]
    }
   ],
   "source": [
    "# Question 12\n",
    "r=int(input(\"Enter upper limit: \"))\n",
    "for a in range(2, r+1):\n",
    "    k=0\n",
    "    for i in range(2,a//2+1):\n",
    "        if(a%i==0):\n",
    "            k=k+1\n",
    "    if(k<=0):\n",
    "        print(\"Prime numbers are\", a)"
   ]
  },
  {
   "cell_type": "code",
   "execution_count": 13,
   "id": "d020946c-3dbe-4b69-8d84-da9394dbab78",
   "metadata": {},
   "outputs": [
    {
     "name": "stdout",
     "output_type": "stream",
     "text": [
      "Number of Vowels 10\n"
     ]
    }
   ],
   "source": [
    "#Question 13\n",
    "vowels = 0\n",
    "str = \"Python is beautiful languAe\"\n",
    "str.lower()\n",
    "for x in str:\n",
    "    if (x == 'a') or (x == 'e') or (x == 'i') or (x == 'o') or (x == 'u'):\n",
    "        vowels = vowels + 1\n",
    "    else:\n",
    "        continue\n",
    "print(\"Number of Vowels\", vowels)"
   ]
  },
  {
   "cell_type": "code",
   "execution_count": 15,
   "id": "6108ac4c-d028-492d-bdcc-d08ae37b41ce",
   "metadata": {},
   "outputs": [
    {
     "name": "stdout",
     "output_type": "stream",
     "text": [
      "Maximum element in the list [71, 734]\n"
     ]
    }
   ],
   "source": [
    "# Question 14\n",
    "list_2d = [[5,6,71], [5,4,6,734]]\n",
    "list1 = []\n",
    "\n",
    "for i in list_2d:\n",
    "    list1.append(max(i))\n",
    "print(\"Maximum element in the list\",list1)"
   ]
  },
  {
   "cell_type": "code",
   "execution_count": 16,
   "id": "f3d0322a-c093-4877-b66c-330882c0ee2d",
   "metadata": {},
   "outputs": [
    {
     "name": "stdout",
     "output_type": "stream",
     "text": [
      "List after removing all the occurences of specific element -  [1, 2, 3, 4, 6, 7, 9]\n"
     ]
    }
   ],
   "source": [
    "# Question 15\n",
    "list1 = [1,2,3,4,5,5,6,7,9]\n",
    "list2 = []\n",
    "for i in list1:\n",
    "    if list1.count(i) > 1:\n",
    "        list1.remove(i)\n",
    "    else:\n",
    "        list2.append(i)\n",
    "print(\"List after removing all the occurences of specific element - \", list2)"
   ]
  },
  {
   "cell_type": "code",
   "execution_count": 18,
   "id": "9fa4ae2e-8372-47a8-8199-efd5607574f3",
   "metadata": {},
   "outputs": [
    {
     "name": "stdout",
     "output_type": "stream",
     "text": [
      "1 X 1 = 1 \n",
      "1 X 2 = 2 \n",
      "1 X 3 = 3 \n",
      "1 X 4 = 4 \n",
      "1 X 5 = 5 \n",
      "1 X 6 = 6 \n",
      "1 X 7 = 7 \n",
      "1 X 8 = 8 \n",
      "1 X 9 = 9 \n",
      "1 X 10 = 10 \n",
      "2 X 1 = 2 \n",
      "2 X 2 = 4 \n",
      "2 X 3 = 6 \n",
      "2 X 4 = 8 \n",
      "2 X 5 = 10 \n",
      "2 X 6 = 12 \n",
      "2 X 7 = 14 \n",
      "2 X 8 = 16 \n",
      "2 X 9 = 18 \n",
      "2 X 10 = 20 \n",
      "3 X 1 = 3 \n",
      "3 X 2 = 6 \n",
      "3 X 3 = 9 \n",
      "3 X 4 = 12 \n",
      "3 X 5 = 15 \n",
      "3 X 6 = 18 \n",
      "3 X 7 = 21 \n",
      "3 X 8 = 24 \n",
      "3 X 9 = 27 \n",
      "3 X 10 = 30 \n",
      "4 X 1 = 4 \n",
      "4 X 2 = 8 \n",
      "4 X 3 = 12 \n",
      "4 X 4 = 16 \n",
      "4 X 5 = 20 \n",
      "4 X 6 = 24 \n",
      "4 X 7 = 28 \n",
      "4 X 8 = 32 \n",
      "4 X 9 = 36 \n",
      "4 X 10 = 40 \n",
      "5 X 1 = 5 \n",
      "5 X 2 = 10 \n",
      "5 X 3 = 15 \n",
      "5 X 4 = 20 \n",
      "5 X 5 = 25 \n",
      "5 X 6 = 30 \n",
      "5 X 7 = 35 \n",
      "5 X 8 = 40 \n",
      "5 X 9 = 45 \n",
      "5 X 10 = 50 \n"
     ]
    }
   ],
   "source": [
    "#question 16\n",
    "list = [1,2,3,4,5]\n",
    "for j in list:\n",
    "    for i in range(1,11):\n",
    "        print(j, 'X', i ,'=', j*i, end = \" \\n\")"
   ]
  },
  {
   "cell_type": "code",
   "execution_count": 19,
   "id": "00974788-cd1f-4395-9760-bd95dcc27cd2",
   "metadata": {},
   "outputs": [
    {
     "name": "stdout",
     "output_type": "stream",
     "text": [
      "List with Celcius value -  [-5.0, 7.222222222222222, 19.444444444444443, 31.666666666666668]\n"
     ]
    }
   ],
   "source": [
    "#Question 17\n",
    "listF = [23,45,67,89]\n",
    "listc = []\n",
    "for i in listF:\n",
    "    a = (i - 32)*5/9\n",
    "    listc.append(a)\n",
    "print(\"List with Celcius value - \",listc,3))"
   ]
  },
  {
   "cell_type": "code",
   "execution_count": null,
   "id": "11d33abd-75ae-444d-baf9-f2225a389988",
   "metadata": {},
   "outputs": [
    {
     "name": "stdout",
     "output_type": "stream",
     "text": [
      "Common elements are [2, 3, 6]\n"
     ]
    }
   ],
   "source": [
    "# Question 18\n",
    "list1 = [2,3,5,6,7]\n",
    "list2 = [2,3,4,6,8]\n",
    "list3 = []\n",
    "for i in list1:\n",
    "    for j in list2:\n",
    "        if i == j:\n",
    "            list3.append(i)\n",
    "        else:\n",
    "            continue\n",
    "print(\"Common elements are\", list3)     "
   ]
  },
  {
   "cell_type": "code",
   "execution_count": null,
   "id": "8768b324-7e7e-449c-a47e-b36eaa0ae2bd",
   "metadata": {},
   "outputs": [
    {
     "name": "stdout",
     "output_type": "stream",
     "text": [
      "* \n",
      "* * \n",
      "* * * \n",
      "* * * * \n",
      "* * * * * \n",
      "* * * * * * \n",
      "* * * * * * * \n"
     ]
    }
   ],
   "source": [
    "# Question 19\n",
    "for i in range(7):\n",
    "    for j in range(i+1):\n",
    "        print(\"*\", end = \" \")\n",
    "    print()"
   ]
  },
  {
   "cell_type": "code",
   "execution_count": 1,
   "id": "861f9311-f0c2-40bd-8d90-9601ab77ee52",
   "metadata": {},
   "outputs": [
    {
     "name": "stdout",
     "output_type": "stream",
     "text": [
      "TWO POSITIVE INTEGER NUMBERS::\n"
     ]
    },
    {
     "name": "stdin",
     "output_type": "stream",
     "text": [
      " 125\n",
      " 675\n"
     ]
    },
    {
     "name": "stdout",
     "output_type": "stream",
     "text": [
      "The computed GCD of 125 and 675 is 25\n"
     ]
    }
   ],
   "source": [
    "# Question 20\n",
    "print (\"TWO POSITIVE INTEGER NUMBERS::\")\n",
    "x = int (input ())\n",
    "y = int (input ())\n",
    "\n",
    "n = min(x,y)\n",
    "\n",
    "# It will calculate the GCD\n",
    "for i in range (1, n + 1):\n",
    "        if x % i == 0 and y % i == 0:\n",
    "            gcd = i\n",
    "print (f\"The computed GCD of {x} and {y} is {gcd}\")"
   ]
  },
  {
   "cell_type": "code",
   "execution_count": 258,
   "id": "b3b41ea3-80e7-4013-a1cd-2475bf368e38",
   "metadata": {},
   "outputs": [
    {
     "name": "stdout",
     "output_type": "stream",
     "text": [
      "Sum of digits of numbers in a list is -  [43]\n"
     ]
    }
   ],
   "source": [
    "# Consider the list of integers\n",
    "# Question 21\n",
    "from functools import reduce\n",
    "l = [20,40,32,62,78,90]\n",
    "a = 0\n",
    "sum_digits = [a:= a + int(y) for x in l for y in str(x)]\n",
    "#reduce(lambda a, b : a + b, [int(y) for x in l for y in str(x)])\n",
    "print(\"Sum of digits of numbers in a list is - \", sum_digits[-1::])"
   ]
  },
  {
   "cell_type": "code",
   "execution_count": 150,
   "id": "5834ca51-6e34-4bbd-a143-1f32caec0c6c",
   "metadata": {},
   "outputs": [
    {
     "name": "stdout",
     "output_type": "stream",
     "text": [
      "The prime factors of given number are [2, 3, 5]\n"
     ]
    }
   ],
   "source": [
    "# Question 22\n",
    "n = 30\n",
    "c = list([i for i in range(2,n) if all (i % x != 0 and n % i == 0 for x in range(2,i))])\n",
    "print(\"The prime factors of given number are\", c)"
   ]
  },
  {
   "cell_type": "code",
   "execution_count": 1,
   "id": "bc02124e-8ebf-4116-8f31-e9143c421e0d",
   "metadata": {},
   "outputs": [
    {
     "name": "stdout",
     "output_type": "stream",
     "text": [
      "Unique elements in the list [1, 2, 3, 4, 5, 6, 7, 8, 9]\n"
     ]
    }
   ],
   "source": [
    "# Question 23\n",
    "list1 = [1,2,3,4,5,6,6,7,7,8,9,9]\n",
    "list2 = []\n",
    "\n",
    "for i in list1:\n",
    "    if i not in list2: \n",
    "        list2.append(i)\n",
    "print(\"Unique elements in the list\",list2)"
   ]
  },
  {
   "cell_type": "code",
   "execution_count": 2,
   "id": "5d0c2fdb-6eb6-4d69-9c58-187feb43f717",
   "metadata": {},
   "outputs": [
    {
     "name": "stdout",
     "output_type": "stream",
     "text": [
      "Palindromic numbers are [1, 2, 3, 4, 5, 6, 7, 8, 9, 11]\n"
     ]
    }
   ],
   "source": [
    "# Question 24\n",
    "n = 15\n",
    "c = [i for i in range(1,n+1) if str(i) == str(i)[::-1]]\n",
    "print(\"Palindromic numbers are\", c)"
   ]
  },
  {
   "cell_type": "code",
   "execution_count": 195,
   "id": "7d7972a5-3512-441d-a924-3d36a063aa4e",
   "metadata": {},
   "outputs": [
    {
     "name": "stdout",
     "output_type": "stream",
     "text": [
      "[1, 2, 3, 4, 5, 6, 7, 8, 9]\n"
     ]
    }
   ],
   "source": [
    "# Question 25\n",
    "list_of_lists =[[1, 2, 3], [4, 5, 6], [7, 8, 9]]\n",
    "flat_list = [item for sub_list in list_of_lists for item in sub_list]\n",
    "print(flat_list)"
   ]
  },
  {
   "cell_type": "code",
   "execution_count": 196,
   "id": "41b14463-631b-4312-9481-6eaf3d99bbc9",
   "metadata": {},
   "outputs": [
    {
     "name": "stdout",
     "output_type": "stream",
     "text": [
      "Sum of even numbers 30\n",
      "Sum of odd numbers 25\n"
     ]
    }
   ],
   "source": [
    "# Question 26\n",
    "list1 = [ 1,2,3,4,5,6,7,8,9,10]\n",
    "sum_even = sum([i for i in list1 if i%2 == 0])\n",
    "print(\"Sum of even numbers\",sum_even)\n",
    "sum_odd = sum([i for i in list1 if i%2 != 0])\n",
    "print(\"Sum of odd numbers\",sum_odd)"
   ]
  },
  {
   "cell_type": "code",
   "execution_count": 64,
   "id": "6c6459e9-5a2a-4cd4-a51f-b220ca7a2ad4",
   "metadata": {},
   "outputs": [
    {
     "data": {
      "text/plain": [
       "[1, 9, 25, 49, 81]"
      ]
     },
     "execution_count": 64,
     "metadata": {},
     "output_type": "execute_result"
    }
   ],
   "source": [
    "# Question 27\n",
    "list1 = [ 1,2,3,4,5,6,7,8,9,10]\n",
    "[i*i for i in range(1,11) if i%2 != 0 ]"
   ]
  },
  {
   "cell_type": "code",
   "execution_count": 33,
   "id": "620c6643-9a0e-4083-a4d0-66668f78038a",
   "metadata": {},
   "outputs": [
    {
     "name": "stdout",
     "output_type": "stream",
     "text": [
      "Original key list is : ['Rash', 'Kil', 'Varsha']\n",
      "Original value list is : [1, 4, 5]\n",
      "Resultant dictionary is : {'Rash': 1, 'Kil': 4, 'Varsha': 5}\n"
     ]
    }
   ],
   "source": [
    "# Question 28\n",
    "# initializing lists\n",
    "test_keys = [\"Rash\", \"Kil\", \"Varsha\"]\n",
    "test_values = [1, 4, 5]\n",
    " \n",
    "# Printing original keys-value lists\n",
    "print(\"Original key list is : \" + str(test_keys))\n",
    "print(\"Original value list is : \" + str(test_values))\n",
    " \n",
    "# using dictionary comprehension\n",
    "# to convert lists to dictionary\n",
    "res = {test_keys[i]: test_values[i] for i in range(len(test_keys))}\n",
    " \n",
    "# Printing resultant dictionary\n",
    "print(\"Resultant dictionary is : \"+str(res))"
   ]
  },
  {
   "cell_type": "code",
   "execution_count": 3,
   "id": "5f52c3d4-24c6-4be6-b022-06bebb3fead1",
   "metadata": {},
   "outputs": [
    {
     "name": "stdout",
     "output_type": "stream",
     "text": [
      "List of vowles ['o', 'i', 'e', 'a', 'u', 'i', 'u', 'a', 'u', 'a', 'e']\n"
     ]
    }
   ],
   "source": [
    "#Question 29\n",
    "str1 = \"Python is beautiful language\"\n",
    "str1.lower()\n",
    "list1 = []\n",
    "[list1.append (i) for i in str1 if (i == 'a') or (i == 'o') or (i == 'e') or (i == 'i') or (i == 'u')]\n",
    "print(\"List of vowles\", (list1))"
   ]
  },
  {
   "cell_type": "code",
   "execution_count": 69,
   "id": "52686ab5-c0b4-4f1e-8322-2e3a0820465b",
   "metadata": {},
   "outputs": [
    {
     "name": "stdout",
     "output_type": "stream",
     "text": [
      "String with numeric characters ['1', '2', '3', '3', '4', '5', '6']\n"
     ]
    }
   ],
   "source": [
    "# Question 30\n",
    "str1 = [\"Python\", \"123\", \"@3rty\", \"456\"]\n",
    "c = ' '.join(str1)\n",
    "c = [i for i in c   if i.isnumeric() == True]\n",
    "print(\"String with numeric characters\",c)"
   ]
  },
  {
   "cell_type": "code",
   "execution_count": 61,
   "id": "a893c35d-eead-4440-b98f-689a7eb36353",
   "metadata": {},
   "outputs": [
    {
     "name": "stdin",
     "output_type": "stream",
     "text": [
      "Enter the number 10\n"
     ]
    },
    {
     "name": "stdout",
     "output_type": "stream",
     "text": [
      "2\n",
      "3\n",
      "5\n",
      "7\n"
     ]
    }
   ],
   "source": [
    "# Question 31\n",
    "n = int(input(\"Enter the number\"))\n",
    "prime_list = []\n",
    "for i in range(2, n+1):\n",
    "    if i not in prime_list:\n",
    "        print (i)\n",
    "        for j in range(i*i, n+1, i):\n",
    "            prime_list.append(j)"
   ]
  },
  {
   "cell_type": "code",
   "execution_count": 76,
   "id": "6dcccacb-41d4-4a24-bacf-c9332209bc6e",
   "metadata": {},
   "outputs": [
    {
     "name": "stdin",
     "output_type": "stream",
     "text": [
      "Enter the value of n:  10\n"
     ]
    },
    {
     "name": "stdout",
     "output_type": "stream",
     "text": [
      "Pythagorean Triplets are [(3, 4, 5), (6, 8, 10)]\n"
     ]
    }
   ],
   "source": [
    "# Question 32\n",
    "n = int(input('Enter the value of n: '))\n",
    "Triplets = [(a, b, c) for a in range(1, n + 1) for b in range(a, n + 1)\n",
    "       for c in range(b, n + 1) if a**2 + b**2 == c**2]\n",
    "print(\"Pythagorean Triplets are\", Triplets)"
   ]
  },
  {
   "cell_type": "code",
   "execution_count": 4,
   "id": "7c622faf-74b0-495d-95ec-6288eab5943b",
   "metadata": {},
   "outputs": [
    {
     "name": "stdout",
     "output_type": "stream",
     "text": [
      "All possible combinations of 2 lists [['A', 1], ['A', 2], ['A', 3], ['A', 4], ['A', 5], ['B', 1], ['B', 2], ['B', 3], ['B', 4], ['B', 5], ['C', 1], ['C', 2], ['C', 3], ['C', 4], ['C', 5], ['D', 1], ['D', 2], ['D', 3], ['D', 4], ['D', 5], ['E', 1], ['E', 2], ['E', 3], ['E', 4], ['E', 5]]\n"
     ]
    }
   ],
   "source": [
    "# Question 33\n",
    "n = [ \"A\",\"B\",\"C\",\"D\",\"E\"]\n",
    "l = [1,2,3,4,5,]\n",
    "\n",
    "combined_list = [[i, j] for i in n for j in l]\n",
    "print(\"All possible combinations of 2 lists- \",combined_list)  "
   ]
  },
  {
   "cell_type": "code",
   "execution_count": 48,
   "id": "84cd722c-83ae-43f2-8817-db29d58c784e",
   "metadata": {},
   "outputs": [
    {
     "name": "stdout",
     "output_type": "stream",
     "text": [
      "Mean in given list -  6.42\n",
      "Mode in given list -  11\n",
      "Median in given list -  6.5\n"
     ]
    }
   ],
   "source": [
    "#Question 34\n",
    "list1 = [1,2,3,4,5,6,7,8,9,10,11,11]\n",
    "mean = sum([ i for i in list1])/len(list1)\n",
    "print(\"Mean in given list - \", round(mean,2))\n",
    "\n",
    "list2 = []\n",
    "list3 = []\n",
    "([list2.append(i) if i not in list2 else list3.append(i) for i in list1]  )\n",
    "print(\"Mode in given list - \", list3[0])\n",
    "\n",
    "#Median\n",
    "x = len(list1)\n",
    "\n",
    "y = [(list1[x//2] + list1[x//2 - 1])/2 if x % 2 == 0 else list1[x//2] for i in list1]\n",
    "print(\"Median in given list - \", y[0])"
   ]
  },
  {
   "cell_type": "code",
   "execution_count": 40,
   "id": "7632b122-7f44-47a9-853e-65d008e5ea81",
   "metadata": {},
   "outputs": [
    {
     "name": "stdout",
     "output_type": "stream",
     "text": [
      "      1\n",
      "     1 1\n",
      "    1 2 1\n",
      "   1 3 3 1\n",
      "  1 4 6 4 1\n"
     ]
    }
   ],
   "source": [
    "# Example 35\n",
    "n = 5\n",
    "[    for i in range(n):\n",
    "    \n",
    "    print(' '*(n-i), end = \" \")\n",
    "    print(' '.join(map(str, str(11**i))))"
   ]
  },
  {
   "cell_type": "code",
   "execution_count": 63,
   "id": "7cc0b762-8eb0-499b-84c4-ff74455e5d22",
   "metadata": {},
   "outputs": [
    {
     "name": "stdin",
     "output_type": "stream",
     "text": [
      "Enter the number to find factorial from 1 to 5 6\n"
     ]
    },
    {
     "name": "stdout",
     "output_type": "stream",
     "text": [
      "Sum of digits of 6 factorial is -  9\n"
     ]
    }
   ],
   "source": [
    "#Question 36\n",
    "n = int(input(\"Enter the number to find factorial from 1 to 5\"))\n",
    "b = \" \"\n",
    "f = ([i if i == 1 and n == 1 else  i * (i-1) if (i == 2 and n == 2) else  (i*(i-1)*(i-2)) if (i == 3 and n == 3) else  i*(i-1)*(i-2)*(i-3) if (i == 4 and n == 4) else i*(i-1)*(i-2)*(i-3)*(i-4) for i in range(1, n+1)])\n",
    "for i in f:\n",
    "    sum = 0\n",
    "    for digit in str(i):\n",
    "        sum += int(digit)\n",
    "print(f\"Sum of digits of {n} factorial is - \", sum)"
   ]
  },
  {
   "cell_type": "code",
   "execution_count": 109,
   "id": "be76848a-74b3-4a20-840d-d85ccdddc73b",
   "metadata": {},
   "outputs": [
    {
     "name": "stdout",
     "output_type": "stream",
     "text": [
      "The following are the longest words from a string\n",
      "['beautiful']\n"
     ]
    }
   ],
   "source": [
    "# Question 37\n",
    "str1 = \"PYthon is beautiful language\"\n",
    "\n",
    "wordsList = str1.split()\n",
    "\n",
    "longestWordLength = len(max(wordsList, key=len))\n",
    "\n",
    "result = [textword for textword in wordsList if len(textword) == longestWordLength]\n",
    "\n",
    "# Print the longest words from a text file\n",
    "print(\"The following are the longest words from a string\")\n",
    "print(result)"
   ]
  },
  {
   "cell_type": "code",
   "execution_count": 197,
   "id": "ffba8fed-2560-4a38-9615-c160ab1c8af1",
   "metadata": {},
   "outputs": [
    {
     "name": "stdout",
     "output_type": "stream",
     "text": [
      "['guava', 'pineapple', 'mandarin orange']\n"
     ]
    }
   ],
   "source": [
    "# Question 38\n",
    "def vowels_check(word):\n",
    "    vowels = 'aeiouAEIOU'\n",
    "    count = 0\n",
    "    for vowel in vowels:\n",
    "        \n",
    "        count = count + word.count(vowel)\n",
    "        \n",
    "    if count > 2: return True\n",
    "    return False\n",
    "\n",
    "fruits = ['mago', 'kiwi', 'strawberry', 'guava', 'pineapple', 'mandarin orange']\n",
    "x = [fruit for fruit in fruits if vowels_check(fruit)]\n",
    "print(x)"
   ]
  },
  {
   "cell_type": "code",
   "execution_count": 198,
   "id": "2bb5ff26-059b-46b3-b771-0d113600f0f1",
   "metadata": {},
   "outputs": [
    {
     "name": "stdout",
     "output_type": "stream",
     "text": [
      " 13501 is sum of digits from 1 to 1000\n"
     ]
    }
   ],
   "source": [
    "# Question 39\n",
    "a = 0\n",
    "[a := a + int(y) for x in range(1,1001) for y in str(x)]\n",
    "print(f\" {a} is sum of digits from 1 to 1000\")"
   ]
  },
  {
   "cell_type": "code",
   "execution_count": 201,
   "id": "0bcec2a7-4868-43d1-9a00-06244459d1d9",
   "metadata": {},
   "outputs": [
    {
     "name": "stdin",
     "output_type": "stream",
     "text": [
      "Enter the limit till where you need to find list of prime palindromic numbers 50\n"
     ]
    },
    {
     "name": "stdout",
     "output_type": "stream",
     "text": [
      "Prime Palindromic numbers [2, 3, 5, 7, 11]\n"
     ]
    }
   ],
   "source": [
    "# Question 40\n",
    "n = int(input(\"Enter the limit till where you need to find list of prime palindromic numbers\"))\n",
    "a = [int(x) for x in range(2, n+1) if all(x % y != 0 and str(x)[::1] == str(x)[::-1] for y in range(2, x))]\n",
    "print(\"Prime Palindromic numbers\", a)"
   ]
  }
 ],
 "metadata": {
  "kernelspec": {
   "display_name": "Python 3 (ipykernel)",
   "language": "python",
   "name": "python3"
  },
  "language_info": {
   "codemirror_mode": {
    "name": "ipython",
    "version": 3
   },
   "file_extension": ".py",
   "mimetype": "text/x-python",
   "name": "python",
   "nbconvert_exporter": "python",
   "pygments_lexer": "ipython3",
   "version": "3.10.8"
  }
 },
 "nbformat": 4,
 "nbformat_minor": 5
}
